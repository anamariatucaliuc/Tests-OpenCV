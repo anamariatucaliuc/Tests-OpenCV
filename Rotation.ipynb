{
 "cells": [
  {
   "cell_type": "markdown",
   "metadata": {},
   "source": [
    "#### Liens : https://stackoverflow.com/questions/42079550/extract-roi-from-image-with-a-skew-angle-opencv-python \n",
    "\n",
    "https://namkeenman.wordpress.com/2015/12/18/open-cv-determine-angle-of-rotatedrect-minarearect/ \n",
    " https://answers.opencv.org/question/205685/how-to-determine-the-angle-of-rotation/"
   ]
  },
  {
   "cell_type": "markdown",
   "metadata": {},
   "source": [
    "#### En 3D recherche solvepnp rodrigues : https://opencv-python-tutroals.readthedocs.io/en/latest/py_tutorials/py_calib3d/py_calibration/py_calibration.html\n",
    "\n",
    "\n",
    "https://docs.opencv.org/3.4/d9/d0c/group__calib3d.html "
   ]
  },
  {
   "cell_type": "markdown",
   "metadata": {},
   "source": [
    "https://stackoverflow.com/questions/27946432/find-my-cameras-3d-position-and-orientation-according-to-a-2d-marker\n",
    "\n",
    "\n",
    "\n",
    "https://stackoverflow.com/questions/47564515/find-3d-object-location-with-known-camera-positions-and-matrices?rq=1 "
   ]
  },
  {
   "cell_type": "markdown",
   "metadata": {},
   "source": [
    "https://www.fdxlabs.com/calculate-x-y-z-real-world-coordinates-from-a-single-camera-using-opencv/\n",
    "\n",
    "\n",
    "https://www.microsoft.com/en-us/research/wp-content/uploads/2016/02/tr98-71.pdf "
   ]
  },
  {
   "cell_type": "markdown",
   "metadata": {},
   "source": [
    "https://answers.opencv.org/question/83847/extract-camera-position/"
   ]
  },
  {
   "cell_type": "markdown",
   "metadata": {},
   "source": [
    "https://stackoverflow.com/questions/14444433/calculate-camera-world-position-with-opencv-python\n",
    "\n",
    "\n",
    "https://stackoverflow.com/questions/13957150/opencv-computing-camera-position-rotation\n",
    "\n",
    "\n",
    "https://medium.com/analytics-vidhya/camera-calibration-with-opencv-f324679c6eb7\n",
    "\n",
    "https://www.pyimagesearch.com/2015/01/19/find-distance-camera-objectmarker-using-python-opencv/\n",
    "\n",
    "\n",
    "A4 = 21 x 29.7 cm "
   ]
  },
  {
   "cell_type": "code",
   "execution_count": null,
   "metadata": {},
   "outputs": [],
   "source": []
  },
  {
   "cell_type": "code",
   "execution_count": null,
   "metadata": {},
   "outputs": [],
   "source": []
  },
  {
   "cell_type": "code",
   "execution_count": null,
   "metadata": {},
   "outputs": [],
   "source": []
  },
  {
   "cell_type": "code",
   "execution_count": null,
   "metadata": {},
   "outputs": [],
   "source": []
  }
 ],
 "metadata": {
  "kernelspec": {
   "display_name": "Python 3",
   "language": "python",
   "name": "python3"
  },
  "language_info": {
   "codemirror_mode": {
    "name": "ipython",
    "version": 3
   },
   "file_extension": ".py",
   "mimetype": "text/x-python",
   "name": "python",
   "nbconvert_exporter": "python",
   "pygments_lexer": "ipython3",
   "version": "3.7.1"
  }
 },
 "nbformat": 4,
 "nbformat_minor": 4
}
